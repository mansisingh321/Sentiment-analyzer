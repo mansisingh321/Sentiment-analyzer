{
  "nbformat": 4,
  "nbformat_minor": 0,
  "metadata": {
    "colab": {
      "provenance": []
    },
    "kernelspec": {
      "name": "python3",
      "display_name": "Python 3"
    },
    "language_info": {
      "name": "python"
    }
  },
  "cells": [
    {
      "cell_type": "code",
      "execution_count": null,
      "metadata": {
        "colab": {
          "base_uri": "https://localhost:8080/",
          "height": 250
        },
        "id": "fhZNBoMGo2ui",
        "outputId": "af908379-703f-4e9c-cc0a-8cc1c39b634d"
      },
      "outputs": [
        {
          "output_type": "execute_result",
          "data": {
            "text/plain": [
              "   Unnamed: 0                           title  \\\n",
              "0           0  Eye Filter (Blue light filter)   \n",
              "1           1   Drizly: Fast alcohol delivery   \n",
              "2           2              Card Maker for PKM   \n",
              "3           3   Progression - Workout Tracker   \n",
              "4           4                     My Finances   \n",
              "\n",
              "                                         description  \\\n",
              "0  This app draws a translucent mask over screen,...   \n",
              "1  Get the door. It's the liquor store.™\\r\\n\\r\\nL...   \n",
              "2  PKM Card Maker is where you can make your own ...   \n",
              "3  Workout tracking, made simple and beautiful\\r\\...   \n",
              "4  My Finances is a perfect tool for expense cont...   \n",
              "\n",
              "                                       recentChanges Updated Date  \n",
              "0     Minor improvement.\\r\\nAllow remove ads by IAP.    24-Jul-20  \n",
              "1  Fixes bug with facebook login and creating a n...    06-Sep-22  \n",
              "2                    - 🛠 Improvement and bug fix !!     23-Aug-22  \n",
              "3                                                NaN    02-Jun-22  \n",
              "4                             Fix for fullscreen Ads    02-Jun-22  "
            ],
            "text/html": [
              "\n",
              "\n",
              "  <div id=\"df-200d6e8b-3560-4ee2-8bce-afaa52b1edc0\">\n",
              "    <div class=\"colab-df-container\">\n",
              "      <div>\n",
              "<style scoped>\n",
              "    .dataframe tbody tr th:only-of-type {\n",
              "        vertical-align: middle;\n",
              "    }\n",
              "\n",
              "    .dataframe tbody tr th {\n",
              "        vertical-align: top;\n",
              "    }\n",
              "\n",
              "    .dataframe thead th {\n",
              "        text-align: right;\n",
              "    }\n",
              "</style>\n",
              "<table border=\"1\" class=\"dataframe\">\n",
              "  <thead>\n",
              "    <tr style=\"text-align: right;\">\n",
              "      <th></th>\n",
              "      <th>Unnamed: 0</th>\n",
              "      <th>title</th>\n",
              "      <th>description</th>\n",
              "      <th>recentChanges</th>\n",
              "      <th>Updated Date</th>\n",
              "    </tr>\n",
              "  </thead>\n",
              "  <tbody>\n",
              "    <tr>\n",
              "      <th>0</th>\n",
              "      <td>0</td>\n",
              "      <td>Eye Filter (Blue light filter)</td>\n",
              "      <td>This app draws a translucent mask over screen,...</td>\n",
              "      <td>Minor improvement.\\r\\nAllow remove ads by IAP.</td>\n",
              "      <td>24-Jul-20</td>\n",
              "    </tr>\n",
              "    <tr>\n",
              "      <th>1</th>\n",
              "      <td>1</td>\n",
              "      <td>Drizly: Fast alcohol delivery</td>\n",
              "      <td>Get the door. It's the liquor store.™\\r\\n\\r\\nL...</td>\n",
              "      <td>Fixes bug with facebook login and creating a n...</td>\n",
              "      <td>06-Sep-22</td>\n",
              "    </tr>\n",
              "    <tr>\n",
              "      <th>2</th>\n",
              "      <td>2</td>\n",
              "      <td>Card Maker for PKM</td>\n",
              "      <td>PKM Card Maker is where you can make your own ...</td>\n",
              "      <td>- 🛠 Improvement and bug fix !!</td>\n",
              "      <td>23-Aug-22</td>\n",
              "    </tr>\n",
              "    <tr>\n",
              "      <th>3</th>\n",
              "      <td>3</td>\n",
              "      <td>Progression - Workout Tracker</td>\n",
              "      <td>Workout tracking, made simple and beautiful\\r\\...</td>\n",
              "      <td>NaN</td>\n",
              "      <td>02-Jun-22</td>\n",
              "    </tr>\n",
              "    <tr>\n",
              "      <th>4</th>\n",
              "      <td>4</td>\n",
              "      <td>My Finances</td>\n",
              "      <td>My Finances is a perfect tool for expense cont...</td>\n",
              "      <td>Fix for fullscreen Ads</td>\n",
              "      <td>02-Jun-22</td>\n",
              "    </tr>\n",
              "  </tbody>\n",
              "</table>\n",
              "</div>\n",
              "      <button class=\"colab-df-convert\" onclick=\"convertToInteractive('df-200d6e8b-3560-4ee2-8bce-afaa52b1edc0')\"\n",
              "              title=\"Convert this dataframe to an interactive table.\"\n",
              "              style=\"display:none;\">\n",
              "\n",
              "  <svg xmlns=\"http://www.w3.org/2000/svg\" height=\"24px\"viewBox=\"0 0 24 24\"\n",
              "       width=\"24px\">\n",
              "    <path d=\"M0 0h24v24H0V0z\" fill=\"none\"/>\n",
              "    <path d=\"M18.56 5.44l.94 2.06.94-2.06 2.06-.94-2.06-.94-.94-2.06-.94 2.06-2.06.94zm-11 1L8.5 8.5l.94-2.06 2.06-.94-2.06-.94L8.5 2.5l-.94 2.06-2.06.94zm10 10l.94 2.06.94-2.06 2.06-.94-2.06-.94-.94-2.06-.94 2.06-2.06.94z\"/><path d=\"M17.41 7.96l-1.37-1.37c-.4-.4-.92-.59-1.43-.59-.52 0-1.04.2-1.43.59L10.3 9.45l-7.72 7.72c-.78.78-.78 2.05 0 2.83L4 21.41c.39.39.9.59 1.41.59.51 0 1.02-.2 1.41-.59l7.78-7.78 2.81-2.81c.8-.78.8-2.07 0-2.86zM5.41 20L4 18.59l7.72-7.72 1.47 1.35L5.41 20z\"/>\n",
              "  </svg>\n",
              "      </button>\n",
              "\n",
              "\n",
              "\n",
              "    <div id=\"df-28c3bc7b-8417-4386-b484-355cd64d48a3\">\n",
              "      <button class=\"colab-df-quickchart\" onclick=\"quickchart('df-28c3bc7b-8417-4386-b484-355cd64d48a3')\"\n",
              "              title=\"Suggest charts.\"\n",
              "              style=\"display:none;\">\n",
              "\n",
              "<svg xmlns=\"http://www.w3.org/2000/svg\" height=\"24px\"viewBox=\"0 0 24 24\"\n",
              "     width=\"24px\">\n",
              "    <g>\n",
              "        <path d=\"M19 3H5c-1.1 0-2 .9-2 2v14c0 1.1.9 2 2 2h14c1.1 0 2-.9 2-2V5c0-1.1-.9-2-2-2zM9 17H7v-7h2v7zm4 0h-2V7h2v10zm4 0h-2v-4h2v4z\"/>\n",
              "    </g>\n",
              "</svg>\n",
              "      </button>\n",
              "    </div>\n",
              "\n",
              "<style>\n",
              "  .colab-df-quickchart {\n",
              "    background-color: #E8F0FE;\n",
              "    border: none;\n",
              "    border-radius: 50%;\n",
              "    cursor: pointer;\n",
              "    display: none;\n",
              "    fill: #1967D2;\n",
              "    height: 32px;\n",
              "    padding: 0 0 0 0;\n",
              "    width: 32px;\n",
              "  }\n",
              "\n",
              "  .colab-df-quickchart:hover {\n",
              "    background-color: #E2EBFA;\n",
              "    box-shadow: 0px 1px 2px rgba(60, 64, 67, 0.3), 0px 1px 3px 1px rgba(60, 64, 67, 0.15);\n",
              "    fill: #174EA6;\n",
              "  }\n",
              "\n",
              "  [theme=dark] .colab-df-quickchart {\n",
              "    background-color: #3B4455;\n",
              "    fill: #D2E3FC;\n",
              "  }\n",
              "\n",
              "  [theme=dark] .colab-df-quickchart:hover {\n",
              "    background-color: #434B5C;\n",
              "    box-shadow: 0px 1px 3px 1px rgba(0, 0, 0, 0.15);\n",
              "    filter: drop-shadow(0px 1px 2px rgba(0, 0, 0, 0.3));\n",
              "    fill: #FFFFFF;\n",
              "  }\n",
              "</style>\n",
              "\n",
              "    <script>\n",
              "      async function quickchart(key) {\n",
              "        const containerElement = document.querySelector('#' + key);\n",
              "        const charts = await google.colab.kernel.invokeFunction(\n",
              "            'suggestCharts', [key], {});\n",
              "      }\n",
              "    </script>\n",
              "\n",
              "      <script>\n",
              "\n",
              "function displayQuickchartButton(domScope) {\n",
              "  let quickchartButtonEl =\n",
              "    domScope.querySelector('#df-28c3bc7b-8417-4386-b484-355cd64d48a3 button.colab-df-quickchart');\n",
              "  quickchartButtonEl.style.display =\n",
              "    google.colab.kernel.accessAllowed ? 'block' : 'none';\n",
              "}\n",
              "\n",
              "        displayQuickchartButton(document);\n",
              "      </script>\n",
              "      <style>\n",
              "    .colab-df-container {\n",
              "      display:flex;\n",
              "      flex-wrap:wrap;\n",
              "      gap: 12px;\n",
              "    }\n",
              "\n",
              "    .colab-df-convert {\n",
              "      background-color: #E8F0FE;\n",
              "      border: none;\n",
              "      border-radius: 50%;\n",
              "      cursor: pointer;\n",
              "      display: none;\n",
              "      fill: #1967D2;\n",
              "      height: 32px;\n",
              "      padding: 0 0 0 0;\n",
              "      width: 32px;\n",
              "    }\n",
              "\n",
              "    .colab-df-convert:hover {\n",
              "      background-color: #E2EBFA;\n",
              "      box-shadow: 0px 1px 2px rgba(60, 64, 67, 0.3), 0px 1px 3px 1px rgba(60, 64, 67, 0.15);\n",
              "      fill: #174EA6;\n",
              "    }\n",
              "\n",
              "    [theme=dark] .colab-df-convert {\n",
              "      background-color: #3B4455;\n",
              "      fill: #D2E3FC;\n",
              "    }\n",
              "\n",
              "    [theme=dark] .colab-df-convert:hover {\n",
              "      background-color: #434B5C;\n",
              "      box-shadow: 0px 1px 3px 1px rgba(0, 0, 0, 0.15);\n",
              "      filter: drop-shadow(0px 1px 2px rgba(0, 0, 0, 0.3));\n",
              "      fill: #FFFFFF;\n",
              "    }\n",
              "  </style>\n",
              "\n",
              "      <script>\n",
              "        const buttonEl =\n",
              "          document.querySelector('#df-200d6e8b-3560-4ee2-8bce-afaa52b1edc0 button.colab-df-convert');\n",
              "        buttonEl.style.display =\n",
              "          google.colab.kernel.accessAllowed ? 'block' : 'none';\n",
              "\n",
              "        async function convertToInteractive(key) {\n",
              "          const element = document.querySelector('#df-200d6e8b-3560-4ee2-8bce-afaa52b1edc0');\n",
              "          const dataTable =\n",
              "            await google.colab.kernel.invokeFunction('convertToInteractive',\n",
              "                                                     [key], {});\n",
              "          if (!dataTable) return;\n",
              "\n",
              "          const docLinkHtml = 'Like what you see? Visit the ' +\n",
              "            '<a target=\"_blank\" href=https://colab.research.google.com/notebooks/data_table.ipynb>data table notebook</a>'\n",
              "            + ' to learn more about interactive tables.';\n",
              "          element.innerHTML = '';\n",
              "          dataTable['output_type'] = 'display_data';\n",
              "          await google.colab.output.renderOutput(dataTable, element);\n",
              "          const docLink = document.createElement('div');\n",
              "          docLink.innerHTML = docLinkHtml;\n",
              "          element.appendChild(docLink);\n",
              "        }\n",
              "      </script>\n",
              "    </div>\n",
              "  </div>\n"
            ]
          },
          "metadata": {},
          "execution_count": 2
        }
      ],
      "source": [
        "# Importing modules\n",
        "import pandas as pd\n",
        "# Read data into papers\n",
        "papers = pd.read_csv('final.csv')\n",
        "# Print head\n",
        "papers.head()"
      ]
    },
    {
      "cell_type": "code",
      "source": [
        "# Load the regular expression library\n",
        "import re\n",
        "# Remove punctuation\n",
        "papers['recentChanges']=papers['recentChanges'].apply(str)\n",
        "papers['paper_text_processed'] = papers['recentChanges'].map(lambda x: re.sub('[,\\.!?]', '', x))\n",
        "papers['paper_text_processed'] = papers['recentChanges'].map(lambda x: re.sub('[www]', '', x))\n",
        "papers['paper_text_processed'] = papers['recentChanges'].map(lambda x: re.sub('[com]', '', x))\n",
        "\n",
        "# Convert the titles to lowercase\n",
        "papers['paper_text_processed'] = papers['paper_text_processed'].map(lambda x: x.lower())\n",
        "# Print out the first rows of papers\n",
        "papers['paper_text_processed'].head()"
      ],
      "metadata": {
        "colab": {
          "base_uri": "https://localhost:8080/"
        },
        "id": "tiBuN8s7V-3h",
        "outputId": "6aa16e56-c12d-49dc-c4df-164549edbc73"
      },
      "execution_count": null,
      "outputs": [
        {
          "output_type": "execute_result",
          "data": {
            "text/plain": [
              "0              minr iprveent.\\r\\nallw reve ads by iap.\n",
              "1    fixes bug with faebk lgin and reating a new dr...\n",
              "2                         - 🛠 iprveent and bug fix !! \n",
              "3                                                  nan\n",
              "4                                 fix fr fullsreen ads\n",
              "Name: paper_text_processed, dtype: object"
            ]
          },
          "metadata": {},
          "execution_count": 3
        }
      ]
    },
    {
      "cell_type": "code",
      "source": [
        "# Import the wordcloud library\n",
        "from wordcloud import WordCloud\n",
        "# Join the different processed titles together.\n",
        "long_string = ','.join(list(papers['paper_text_processed'].values))\n",
        "# Create a WordCloud object\n",
        "wordcloud = WordCloud(background_color=\"white\", max_words=5000, contour_width=3, contour_color='steelblue')\n",
        "# Generate a word cloud\n",
        "wordcloud.generate(long_string)\n",
        "# Visualize the word cloud\n",
        "wordcloud.to_image()"
      ],
      "metadata": {
        "colab": {
          "base_uri": "https://localhost:8080/",
          "height": 217
        },
        "id": "Q9xdHTY1XWg8",
        "outputId": "a039f9ec-47f2-47c9-ab67-77d338b1dc90"
      },
      "execution_count": null,
      "outputs": [
        {
          "output_type": "execute_result",
          "data": {
            "text/plain": [
              "<PIL.Image.Image image mode=RGB size=400x200 at 0x79BD9C72BFD0>"
            ],
            "image/png": "[encoded data removed]"
          },
          "metadata": {},
          "execution_count": 4
        }
      ]
    },
    {
      "cell_type": "code",
      "source": [
        "import gensim\n",
        "from gensim.utils import simple_preprocess\n",
        "import nltk\n",
        "nltk.download('stopwords')\n",
        "from nltk.corpus import stopwords\n",
        "stop_words = stopwords.words('english')\n",
        "stop_words.extend(['from', 'subject', 're', 'edu', 'use'])\n",
        "def sent_to_words(sentences):\n",
        "    for sentence in sentences:\n",
        "        # deacc=True removes punctuations\n",
        "        yield(gensim.utils.simple_preprocess(str(sentence), deacc=True))\n",
        "def remove_stopwords(texts):\n",
        "    return [[word for word in simple_preprocess(str(doc))\n",
        "             if word not in stop_words] for doc in texts]\n",
        "data = papers.paper_text_processed.values.tolist()\n",
        "data_words = list(sent_to_words(data))\n",
        "# remove stop words\n",
        "data_words = remove_stopwords(data_words)\n",
        "print(data_words[:1][0][:30])"
      ],
      "metadata": {
        "colab": {
          "base_uri": "https://localhost:8080/"
        },
        "id": "ePOXDO81XkAZ",
        "outputId": "65c4e70c-c402-496c-894f-cb0029a0f99b"
      },
      "execution_count": null,
      "outputs": [
        {
          "output_type": "stream",
          "name": "stderr",
          "text": [
            "[nltk_data] Downloading package stopwords to /root/nltk_data...\n",
            "[nltk_data]   Unzipping corpora/stopwords.zip.\n"
          ]
        },
        {
          "output_type": "stream",
          "name": "stdout",
          "text": [
            "['minr', 'iprveent', 'allw', 'reve', 'ads', 'iap']\n"
          ]
        }
      ]
    },
    {
      "cell_type": "code",
      "source": [
        "import gensim.corpora as corpora\n",
        "# Create Dictionary\n",
        "id2word = corpora.Dictionary(data_words)\n",
        "# Create Corpus\n",
        "texts = data_words\n",
        "# Term Document Frequency\n",
        "corpus = [id2word.doc2bow(text) for text in texts]\n",
        "# View\n",
        "print(corpus[:1][0][:30])"
      ],
      "metadata": {
        "colab": {
          "base_uri": "https://localhost:8080/"
        },
        "id": "8SCawlcGlB-H",
        "outputId": "d5f227b4-cb8c-46ff-b161-eaeb3aa78575"
      },
      "execution_count": null,
      "outputs": [
        {
          "output_type": "stream",
          "name": "stdout",
          "text": [
            "[(0, 1), (1, 1), (2, 1), (3, 1), (4, 1), (5, 1)]\n"
          ]
        }
      ]
    },
    {
      "cell_type": "code",
      "source": [
        "from pprint import pprint\n",
        "# number of topics\n",
        "num_topics = 10\n",
        "# Build LDA model\n",
        "lda_model = gensim.models.LdaMulticore(corpus=corpus,\n",
        "                                       id2word=id2word,\n",
        "                                       num_topics=num_topics)\n",
        "# Print the Keyword in the 10 topics\n",
        "pprint(lda_model.print_topics())\n",
        "doc_lda = lda_model[corpus]"
      ],
      "metadata": {
        "colab": {
          "base_uri": "https://localhost:8080/"
        },
        "id": "XCMr8M1cXow5",
        "outputId": "360d1938-92cf-47b6-de69-f36268bf6b0a"
      },
      "execution_count": null,
      "outputs": [
        {
          "output_type": "stream",
          "name": "stderr",
          "text": [
            "WARNING:gensim.models.ldamulticore:too few updates, training might not converge; consider increasing the number of passes or iterations to improve accuracy\n"
          ]
        },
        {
          "output_type": "stream",
          "name": "stdout",
          "text": [
            "[(0,\n",
            "  '0.042*\"nan\" + 0.035*\"fixes\" + 0.033*\"bug\" + 0.028*\"fr\" + 0.019*\"iprveents\" '\n",
            "  '+ 0.014*\"perfrane\" + 0.011*\"yu\" + 0.010*\"versin\" + 0.010*\"app\" + '\n",
            "  '0.009*\"new\"'),\n",
            " (1,\n",
            "  '0.041*\"fixed\" + 0.028*\"fr\" + 0.014*\"andrid\" + 0.013*\"yu\" + 0.013*\"user\" + '\n",
            "  '0.012*\"supprt\" + 0.012*\"issue\" + 0.011*\"versin\" + 0.009*\"se\" + '\n",
            "  '0.009*\"better\"'),\n",
            " (2,\n",
            "  '0.034*\"fr\" + 0.020*\"yu\" + 0.014*\"yur\" + 0.013*\"andrid\" + 0.013*\"new\" + '\n",
            "  '0.012*\"bug\" + 0.011*\"nw\" + 0.010*\"added\" + 0.010*\"nan\" + 0.009*\"fixes\"'),\n",
            " (3,\n",
            "  '0.028*\"yu\" + 0.020*\"fr\" + 0.019*\"added\" + 0.016*\"app\" + 0.014*\"new\" + '\n",
            "  '0.014*\"fix\" + 0.013*\"yur\" + 0.012*\"bugs\" + 0.010*\"bug\" + 0.009*\"fixed\"'),\n",
            " (4,\n",
            "  '0.033*\"new\" + 0.021*\"yur\" + 0.020*\"fr\" + 0.018*\"yu\" + 0.014*\"app\" + '\n",
            "  '0.011*\"nw\" + 0.011*\"fixes\" + 0.011*\"se\" + 0.010*\"iprveents\" + '\n",
            "  '0.010*\"added\"'),\n",
            " (5,\n",
            "  '0.023*\"fixes\" + 0.021*\"added\" + 0.018*\"bug\" + 0.013*\"fixed\" + '\n",
            "  '0.013*\"iprved\" + 0.012*\"bugs\" + 0.011*\"dengan\" + 0.009*\"bca\" + '\n",
            "  '0.008*\"perfrane\" + 0.006*\"seurity\"'),\n",
            " (6,\n",
            "  '0.034*\"fixes\" + 0.034*\"bug\" + 0.033*\"iprveents\" + 0.027*\"yu\" + 0.023*\"fr\" + '\n",
            "  '0.017*\"update\" + 0.016*\"perfrane\" + 0.015*\"yur\" + 0.014*\"new\" + '\n",
            "  '0.014*\"app\"'),\n",
            " (7,\n",
            "  '0.020*\"added\" + 0.016*\"fixes\" + 0.016*\"bug\" + 0.014*\"yu\" + 0.013*\"fixed\" + '\n",
            "  '0.011*\"bugs\" + 0.010*\"fr\" + 0.010*\"de\" + 0.010*\"yur\" + 0.009*\"app\"'),\n",
            " (8,\n",
            "  '0.050*\"fr\" + 0.032*\"app\" + 0.021*\"yu\" + 0.020*\"fixed\" + 0.013*\"bugs\" + '\n",
            "  '0.012*\"yur\" + 0.011*\"update\" + 0.010*\"andrid\" + 0.010*\"iprved\" + '\n",
            "  '0.008*\"new\"'),\n",
            " (9,\n",
            "  '0.031*\"fixes\" + 0.029*\"bug\" + 0.022*\"de\" + 0.019*\"fr\" + 0.018*\"iprved\" + '\n",
            "  '0.016*\"app\" + 0.016*\"iprveents\" + 0.015*\"user\" + 0.014*\"perfrane\" + '\n",
            "  '0.013*\"added\"')]\n"
          ]
        }
      ]
    },
    {
      "cell_type": "code",
      "source": [
        "from gensim.models import CoherenceModel\n",
        "# Compute Coherence Score\n",
        "coherence_model_lda = CoherenceModel(model=lda_model, texts=data_words, dictionary=id2word, coherence='c_v')\n",
        "coherence_lda = coherence_model_lda.get_coherence()\n",
        "print('\\nCoherence Score: ', coherence_lda)"
      ],
      "metadata": {
        "colab": {
          "base_uri": "https://localhost:8080/"
        },
        "id": "yn2z9PZgtmcN",
        "outputId": "9e9674e3-9f25-41e7-d3bb-ca2373c52930"
      },
      "execution_count": null,
      "outputs": [
        {
          "output_type": "stream",
          "name": "stdout",
          "text": [
            "\n",
            "Coherence Score:  0.5443443067730707\n"
          ]
        }
      ]
    },
    {
      "cell_type": "markdown",
      "source": [
        "**Finding Optimal Number of Topics for highest coherence value**"
      ],
      "metadata": {
        "id": "J2Rg9p46vnBU"
      }
    },
    {
      "cell_type": "code",
      "source": [
        "def compute_coherence_values(dictionary, corpus, texts, limit, start=2, step=3):\n",
        "    \"\"\"\n",
        "    Compute c_v coherence for various number of topics\n",
        "\n",
        "    Parameters:\n",
        "    ----------\n",
        "    dictionary : Gensim dictionary\n",
        "    corpus : Gensim corpus\n",
        "    texts : List of input texts\n",
        "    limit : Max num of topics\n",
        "\n",
        "    Returns:\n",
        "    -------\n",
        "    model_list : List of LDA topic models\n",
        "    coherence_values : Coherence values corresponding to the LDA model with respective number of topics\n",
        "    \"\"\"\n",
        "    coherence_values = []\n",
        "    model_list = []\n",
        "    for num_topics in range(start, limit, step):\n",
        "        model =  lda_model = gensim.models.LdaMulticore(corpus=corpus,\n",
        "                                           id2word=dictionary,\n",
        "                                           num_topics=num_topics,\n",
        "                                           random_state=100,\n",
        "                                           chunksize=100,\n",
        "                                           passes=10,)\n",
        "        model_list.append(model)\n",
        "        coherencemodel = CoherenceModel(model=model, texts=texts, dictionary=dictionary, coherence='c_v')\n",
        "        coherence_values.append(coherencemodel.get_coherence())\n",
        "\n",
        "    return model_list, coherence_values"
      ],
      "metadata": {
        "id": "UD0Pc9C3m2eI"
      },
      "execution_count": null,
      "outputs": []
    },
    {
      "cell_type": "code",
      "source": [
        "model_list, coherence_values = compute_coherence_values(dictionary=id2word, corpus=corpus, texts=data_words, start=2, limit=40, step=6)"
      ],
      "metadata": {
        "id": "8F_HYck-le0C"
      },
      "execution_count": null,
      "outputs": []
    },
    {
      "cell_type": "code",
      "source": [
        "# Show graph\n",
        "import matplotlib.pyplot as plt\n",
        "limit=40; start=2; step=6;\n",
        "x = range(start, limit, step)\n",
        "plt.plot(x, coherence_values)\n",
        "plt.xlabel(\"Num Topics\")\n",
        "plt.ylabel(\"Coherence score\")\n",
        "plt.legend((\"coherence_values\"), loc='best')\n",
        "plt.show()"
      ],
      "metadata": {
        "colab": {
          "base_uri": "https://localhost:8080/",
          "height": 449
        },
        "id": "h51xtVX8iyUl",
        "outputId": "f1592112-64e0-42ff-ed0b-a4f0ac46ca0c"
      },
      "execution_count": null,
      "outputs": [
        {
          "output_type": "display_data",
          "data": {
            "text/plain": [
              "<Figure size 640x480 with 1 Axes>"
            ],
            "image/png": "[encoded data removed]"
          },
          "metadata": {}
        }
      ]
    },
    {
      "cell_type": "code",
      "source": [
        "# Print the coherence scores\n",
        "for m, cv in zip(x, coherence_values):\n",
        "    print(\"Num Topics =\", m, \" has Coherence Value of\", round(cv, 4))"
      ],
      "metadata": {
        "colab": {
          "base_uri": "https://localhost:8080/"
        },
        "id": "5jF5qe9WoeLO",
        "outputId": "90e78fac-982c-4baf-e651-be84ccd7994c"
      },
      "execution_count": null,
      "outputs": [
        {
          "output_type": "stream",
          "name": "stdout",
          "text": [
            "Num Topics = 2  has Coherence Value of 0.6691\n",
            "Num Topics = 8  has Coherence Value of 0.5142\n",
            "Num Topics = 14  has Coherence Value of 0.4813\n",
            "Num Topics = 20  has Coherence Value of 0.4498\n",
            "Num Topics = 26  has Coherence Value of 0.4382\n",
            "Num Topics = 32  has Coherence Value of 0.4733\n",
            "Num Topics = 38  has Coherence Value of 0.4333\n"
          ]
        }
      ]
    },
    {
      "cell_type": "code",
      "source": [
        "#Finding index of max coherence value then using it to get optimal num_topics\n",
        "index= coherence_values.index(max(coherence_values))\n",
        "num_topics= x[index]\n",
        "print(num_topics)"
      ],
      "metadata": {
        "colab": {
          "base_uri": "https://localhost:8080/"
        },
        "id": "zeIFHe2ltKEm",
        "outputId": "459983ef-aa82-4eeb-b10f-0e4f04ef2dbf"
      },
      "execution_count": null,
      "outputs": [
        {
          "output_type": "stream",
          "name": "stdout",
          "text": [
            "2\n"
          ]
        }
      ]
    },
    {
      "cell_type": "code",
      "source": [
        "lda_model = gensim.models.LdaMulticore(corpus=corpus,\n",
        "                                           id2word=id2word,\n",
        "                                           num_topics=num_topics,\n",
        "                                           random_state=100,\n",
        "                                           chunksize=100,\n",
        "                                           passes=10,\n",
        "                                           )"
      ],
      "metadata": {
        "id": "75rohpHr2G_N"
      },
      "execution_count": null,
      "outputs": []
    },
    {
      "cell_type": "code",
      "source": [
        "from gensim.models import CoherenceModel\n",
        "# Compute Coherence Score\n",
        "coherence_model_lda = CoherenceModel(model=lda_model, texts=data_words, dictionary=id2word, coherence='c_v')\n",
        "coherence_lda = coherence_model_lda.get_coherence()\n",
        "print('\\nCoherence Score: ', coherence_lda)"
      ],
      "metadata": {
        "colab": {
          "base_uri": "https://localhost:8080/"
        },
        "id": "bA08SAsH2YxL",
        "outputId": "2414d72b-90b1-4bcb-8f4c-99d5040e87ed"
      },
      "execution_count": null,
      "outputs": [
        {
          "output_type": "stream",
          "name": "stdout",
          "text": [
            "\n",
            "Coherence Score:  0.6690555292396396\n"
          ]
        }
      ]
    },
    {
      "cell_type": "code",
      "source": [
        "!pip install pyLDAvis"
      ],
      "metadata": {
        "colab": {
          "base_uri": "https://localhost:8080/",
          "height": 834
        },
        "id": "HMgQzqcTCdnZ",
        "outputId": "2e638ebd-4f0b-4a83-b955-75a6628a0aa4"
      },
      "execution_count": null,
      "outputs": [
        {
          "output_type": "stream",
          "name": "stdout",
          "text": [
            "Collecting pyLDAvis\n",
            "  Downloading pyLDAvis-3.4.1-py3-none-any.whl (2.6 MB)\n",
            "\u001b[2K     \u001b[90m━━━━━━━━━━━━━━━━━━━━━━━━━━━━━━━━━━━━━━━━\u001b[0m \u001b[32m2.6/2.6 MB\u001b[0m \u001b[31m28.5 MB/s\u001b[0m eta \u001b[36m0:00:00\u001b[0m\n",
            "\u001b[?25hCollecting numpy>=1.24.2 (from pyLDAvis)\n",
            "  Downloading numpy-1.25.1-cp310-cp310-manylinux_2_17_x86_64.manylinux2014_x86_64.whl (17.6 MB)\n",
            "\u001b[2K     \u001b[90m━━━━━━━━━━━━━━━━━━━━━━━━━━━━━━━━━━━━━━━━\u001b[0m \u001b[32m17.6/17.6 MB\u001b[0m \u001b[31m48.8 MB/s\u001b[0m eta \u001b[36m0:00:00\u001b[0m\n",
            "\u001b[?25hRequirement already satisfied: scipy in /usr/local/lib/python3.10/dist-packages (from pyLDAvis) (1.10.1)\n",
            "Collecting pandas>=2.0.0 (from pyLDAvis)\n",
            "  Downloading pandas-2.0.3-cp310-cp310-manylinux_2_17_x86_64.manylinux2014_x86_64.whl (12.3 MB)\n",
            "\u001b[2K     \u001b[90m━━━━━━━━━━━━━━━━━━━━━━━━━━━━━━━━━━━━━━━━\u001b[0m \u001b[32m12.3/12.3 MB\u001b[0m \u001b[31m74.6 MB/s\u001b[0m eta \u001b[36m0:00:00\u001b[0m\n",
            "\u001b[?25hRequirement already satisfied: joblib>=1.2.0 in /usr/local/lib/python3.10/dist-packages (from pyLDAvis) (1.3.1)\n",
            "Requirement already satisfied: jinja2 in /usr/local/lib/python3.10/dist-packages (from pyLDAvis) (3.1.2)\n",
            "Requirement already satisfied: numexpr in /usr/local/lib/python3.10/dist-packages (from pyLDAvis) (2.8.4)\n",
            "Collecting funcy (from pyLDAvis)\n",
            "  Downloading funcy-2.0-py2.py3-none-any.whl (30 kB)\n",
            "Requirement already satisfied: scikit-learn>=1.0.0 in /usr/local/lib/python3.10/dist-packages (from pyLDAvis) (1.2.2)\n",
            "Requirement already satisfied: gensim in /usr/local/lib/python3.10/dist-packages (from pyLDAvis) (4.3.1)\n",
            "Requirement already satisfied: setuptools in /usr/local/lib/python3.10/dist-packages (from pyLDAvis) (67.7.2)\n",
            "Requirement already satisfied: python-dateutil>=2.8.2 in /usr/local/lib/python3.10/dist-packages (from pandas>=2.0.0->pyLDAvis) (2.8.2)\n",
            "Requirement already satisfied: pytz>=2020.1 in /usr/local/lib/python3.10/dist-packages (from pandas>=2.0.0->pyLDAvis) (2022.7.1)\n",
            "Collecting tzdata>=2022.1 (from pandas>=2.0.0->pyLDAvis)\n",
            "  Downloading tzdata-2023.3-py2.py3-none-any.whl (341 kB)\n",
            "\u001b[2K     \u001b[90m━━━━━━━━━━━━━━━━━━━━━━━━━━━━━━━━━━━━━━\u001b[0m \u001b[32m341.8/341.8 kB\u001b[0m \u001b[31m28.0 MB/s\u001b[0m eta \u001b[36m0:00:00\u001b[0m\n",
            "\u001b[?25hRequirement already satisfied: threadpoolctl>=2.0.0 in /usr/local/lib/python3.10/dist-packages (from scikit-learn>=1.0.0->pyLDAvis) (3.1.0)\n",
            "Requirement already satisfied: smart-open>=1.8.1 in /usr/local/lib/python3.10/dist-packages (from gensim->pyLDAvis) (6.3.0)\n",
            "Requirement already satisfied: MarkupSafe>=2.0 in /usr/local/lib/python3.10/dist-packages (from jinja2->pyLDAvis) (2.1.3)\n",
            "Requirement already satisfied: six>=1.5 in /usr/local/lib/python3.10/dist-packages (from python-dateutil>=2.8.2->pandas>=2.0.0->pyLDAvis) (1.16.0)\n",
            "Installing collected packages: funcy, tzdata, numpy, pandas, pyLDAvis\n",
            "  Attempting uninstall: numpy\n",
            "    Found existing installation: numpy 1.22.4\n",
            "    Uninstalling numpy-1.22.4:\n",
            "      Successfully uninstalled numpy-1.22.4\n",
            "  Attempting uninstall: pandas\n",
            "    Found existing installation: pandas 1.5.3\n",
            "    Uninstalling pandas-1.5.3:\n",
            "      Successfully uninstalled pandas-1.5.3\n",
            "\u001b[31mERROR: pip's dependency resolver does not currently take into account all the packages that are installed. This behaviour is the source of the following dependency conflicts.\n",
            "google-colab 1.0.0 requires pandas==1.5.3, but you have pandas 2.0.3 which is incompatible.\n",
            "numba 0.56.4 requires numpy<1.24,>=1.18, but you have numpy 1.25.1 which is incompatible.\n",
            "tensorflow 2.12.0 requires numpy<1.24,>=1.22, but you have numpy 1.25.1 which is incompatible.\u001b[0m\u001b[31m\n",
            "\u001b[0mSuccessfully installed funcy-2.0 numpy-1.25.1 pandas-2.0.3 pyLDAvis-3.4.1 tzdata-2023.3\n"
          ]
        },
        {
          "output_type": "display_data",
          "data": {
            "application/vnd.colab-display-data+json": {
              "pip_warning": {
                "packages": [
                  "numpy"
                ]
              }
            }
          },
          "metadata": {}
        }
      ]
    },
    {
      "cell_type": "markdown",
      "source": [
        "**Intertopic Distance (Visualisation)**"
      ],
      "metadata": {
        "id": "6drmgOgBxBs3"
      }
    },
    {
      "cell_type": "code",
      "source": [
        "import pyLDAvis.gensim_models\n",
        "import pickle\n",
        "import pyLDAvis\n",
        "# Visualize the topics\n",
        "pyLDAvis.enable_notebook()\n",
        "LDAvis_prepared = pyLDAvis.gensim_models.prepare(lda_model, corpus, id2word)\n",
        "LDAvis_prepared"
      ],
      "metadata": {
        "colab": {
          "base_uri": "https://localhost:8080/",
          "height": 882
        },
        "id": "PGtAKWgj37tD",
        "outputId": "31d6cdb2-e6ac-44b2-a714-dbd5fb469530"
      },
      "execution_count": null,
      "outputs": [
        {
          "output_type": "execute_result",
          "data": {
            "text/plain": [
              "PreparedData(topic_coordinates=              x    y  topics  cluster      Freq\n",
              "topic                                          \n",
              "1      0.163162  0.0       1        1  61.46525\n",
              "0     -0.163162  0.0       2        1  38.53475, topic_info=          Term        Freq       Total Category  logprob  loglift\n",
              "11       fixes  683.000000  683.000000  Default  30.0000  30.0000\n",
              "160         yu  614.000000  614.000000  Default  29.0000  29.0000\n",
              "141      fixed  303.000000  303.000000  Default  28.0000  28.0000\n",
              "63       added  248.000000  248.000000  Default  27.0000  27.0000\n",
              "83   iprveents  450.000000  450.000000  Default  26.0000  26.0000\n",
              "..         ...         ...         ...      ...      ...      ...\n",
              "156     issues   36.436316   64.303064   Topic2  -5.8159   0.3856\n",
              "55          nw   52.726298  211.600834   Topic2  -5.4463  -0.4360\n",
              "30         app   57.551100  529.415500   Topic2  -5.3588  -1.2655\n",
              "465         ui   34.701046   70.807520   Topic2  -5.8647   0.2404\n",
              "7          bug   53.259647  665.637454   Topic2  -5.4363  -1.5720\n",
              "\n",
              "[124 rows x 6 columns], token_table=      Topic      Freq    Term\n",
              "term                         \n",
              "189       1  0.117272     add\n",
              "189       2  0.891267     add\n",
              "63        1  0.004030   added\n",
              "63        2  0.995503   added\n",
              "74        1  0.988851     ade\n",
              "...     ...       ...     ...\n",
              "93        1  0.626790  versin\n",
              "93        2  0.372350  versin\n",
              "160       1  0.998701      yu\n",
              "160       2  0.001627      yu\n",
              "161       1  0.998566     yur\n",
              "\n",
              "[155 rows x 3 columns], R=30, lambda_step=0.01, plot_opts={'xlab': 'PC1', 'ylab': 'PC2'}, topic_order=[2, 1])"
            ],
            "text/html": [
              "\n",
              "<link rel=\"stylesheet\" type=\"text/css\" href=\"https://cdn.jsdelivr.net/gh/bmabey/pyLDAvis@3.4.0/pyLDAvis/js/ldavis.v1.0.0.css\">\n",
              "\n",
              "\n",
              "<div id=\"ldavis_el76713385496052200027399056\" style=\"background-color:white;\"></div>\n",
              "<script type=\"text/javascript\">\n",
              "\n",
              "var ldavis_el76713385496052200027399056_data = {\"mdsDat\": {\"x\": [0.16316165863359064, -0.16316165863359064], \"y\": [0.0, 0.0], \"topics\": [1, 2], \"cluster\": [1, 1], \"Freq\": [61.46524989676499, 38.53475010323501]}, \"tinfo\": {\"Term\": [\"fixes\", \"yu\", \"fixed\", \"added\", \"iprveents\", \"yur\", \"nan\", \"andrid\", \"perfrane\", \"iprved\", \"fix\", \"de\", \"bug\", \"experiene\", \"ur\", \"features\", \"app\", \"updates\", \"us\", \"add\", \"issue\", \"ake\", \"better\", \"supprt\", \"enhaneents\", \"iprve\", \"feedbak\", \"updated\", \"update\", \"nt\", \"fixes\", \"iprveents\", \"yur\", \"yu\", \"ur\", \"perfrane\", \"us\", \"experiene\", \"enhaneents\", \"ake\", \"updates\", \"better\", \"using\", \"features\", \"feedbak\", \"inludes\", \"help\", \"please\", \"thanks\", \"release\", \"thank\", \"ade\", \"enjy\", \"iprve\", \"general\", \"ut\", \"latest\", \"seurity\", \"get\", \"faster\", \"minr\", \"bug\", \"update\", \"app\", \"fr\", \"new\", \"nw\", \"stability\", \"versin\", \"se\", \"bugs\", \"fixed\", \"added\", \"nan\", \"andrid\", \"fix\", \"issue\", \"name\", \"ads\", \"language\", \"ptin\", \"dark\", \"rash\", \"reved\", \"errrs\", \"pliy\", \"sund\", \"la\", \"libraries\", \"funtin\", \"file\", \"syste\", \"ntifiatin\", \"list\", \"rashes\", \"buttn\", \"et\", \"audi\", \"text\", \"size\", \"japanese\", \"de\", \"nt\", \"iprved\", \"latin\", \"thee\", \"add\", \"setting\", \"supprt\", \"updated\", \"interfae\", \"bugs\", \"settings\", \"se\", \"fr\", \"user\", \"feature\", \"new\", \"versin\", \"issues\", \"nw\", \"app\", \"ui\", \"bug\"], \"Freq\": [683.0, 614.0, 303.0, 248.0, 450.0, 433.0, 182.0, 161.0, 308.0, 179.0, 137.0, 148.0, 665.0, 209.0, 162.0, 143.0, 529.0, 135.0, 126.0, 85.0, 60.0, 118.0, 117.0, 131.0, 112.0, 116.0, 109.0, 122.0, 252.0, 55.0, 683.1566372281094, 449.6436570229405, 433.1878673155136, 614.1573063846076, 162.41591544007827, 307.4287477787951, 125.79829946942893, 208.93333952653452, 112.08812028995031, 118.37810701156, 134.95803916224597, 117.30945936151116, 96.2768649971263, 142.74930572551233, 108.44693860190762, 76.22561260519504, 68.38393616327558, 74.16988313163255, 67.60586847314134, 79.0689822420204, 77.76463741679717, 56.24627182828501, 61.271229888024216, 115.7784994039301, 59.5303067235894, 50.04102510717487, 87.24623562498893, 58.29806423628655, 52.2853749869723, 62.45074657575575, 138.77758308916233, 612.3778072433097, 233.42962521619881, 471.864400556754, 565.9861149576053, 340.4510917878393, 158.87453632054633, 79.4375042933864, 100.94320951421233, 86.63385164195651, 83.77952906149443, 303.20179036168446, 247.46999122725825, 181.97092961565156, 161.0919259529445, 136.78328537642307, 59.76434132415299, 49.83253781111998, 44.24213398483032, 35.54242670747609, 28.206292482842326, 32.20018193459816, 25.52297767693744, 23.400926134843502, 22.049201995390707, 25.07204994474634, 22.50718583799361, 23.543992794728215, 20.702217990630526, 21.485264042964918, 18.946399503827998, 21.899123352474213, 28.468557160411816, 23.668265461115446, 20.10897091708733, 18.758132172162703, 21.549856563069078, 29.064837635465512, 18.305554645344348, 26.178183862422234, 17.386001254645837, 143.03838419836597, 53.1381056138808, 166.78077084674246, 27.027635927833273, 23.207118681789723, 75.7500854386419, 23.430857309672824, 96.96243017695798, 89.64969769837425, 49.52944818971138, 116.44372897022997, 44.863083088779824, 105.09717318443495, 227.8596696686593, 73.01124415403143, 51.16475195474785, 111.00205434310647, 60.19537187834608, 36.4363164680325, 52.726297515810565, 57.551099839512986, 34.70104568221734, 53.25964665309833], \"Total\": [683.0, 614.0, 303.0, 248.0, 450.0, 433.0, 182.0, 161.0, 308.0, 179.0, 137.0, 148.0, 665.0, 209.0, 162.0, 143.0, 529.0, 135.0, 126.0, 85.0, 60.0, 118.0, 117.0, 131.0, 112.0, 116.0, 109.0, 122.0, 252.0, 55.0, 683.6936813662253, 450.09104282115294, 433.62166196964597, 614.7983172990486, 162.8515255889292, 308.3075870779035, 126.19727290550037, 209.65017764968667, 112.47927717451977, 118.81343820597533, 135.47907128906851, 117.82682108674064, 96.70148231277862, 143.47319648938307, 109.00814652856056, 76.63050867408724, 68.78666291771061, 74.61209824181445, 68.01643362035215, 79.554034362224, 78.27864684012566, 56.63140723826113, 61.71211650606465, 116.62215628102015, 59.999190562856526, 50.45317759453555, 87.98150119969159, 58.811299473201835, 52.753742820585956, 63.01289114163624, 144.00047416613998, 665.637453896408, 252.33845381459832, 529.415500396267, 793.8457846262646, 451.45314613094575, 211.60083383635688, 86.67111922651958, 161.13858139255842, 191.73102482639146, 200.2232580317244, 303.97146936620845, 248.11565891051634, 182.4883462246246, 161.75245696689953, 137.41923066189264, 60.32863003681152, 50.35371374723791, 44.85372584344084, 36.17025598148028, 28.808802369589785, 32.91494168430372, 26.092772768297518, 23.958095661189233, 22.613619027380754, 25.72552932008201, 23.095867143820833, 24.206241095263618, 21.296150384611998, 22.11120474873749, 19.503909464872432, 22.54780450011092, 29.314876473265667, 24.382818523393468, 20.742789017840963, 19.350503199791056, 22.23181772135158, 29.995280859930045, 18.900477159376468, 27.032388091323853, 17.964127062639747, 148.90903710956195, 55.128065913411355, 179.0134764892972, 28.018341486430725, 24.010545635024926, 85.27184898118972, 24.33612929770407, 131.07008965513, 122.05614297381598, 62.90639927146435, 200.2232580317244, 57.34188825129993, 191.73102482639146, 793.8457846262646, 139.64137427513697, 82.2992980029284, 451.45314613094575, 161.13858139255842, 64.30306404295389, 211.60083383635688, 529.415500396267, 70.80751974213142, 665.637453896408], \"Category\": [\"Default\", \"Default\", \"Default\", \"Default\", \"Default\", \"Default\", \"Default\", \"Default\", \"Default\", \"Default\", \"Default\", \"Default\", \"Default\", \"Default\", \"Default\", \"Default\", \"Default\", \"Default\", \"Default\", \"Default\", \"Default\", \"Default\", \"Default\", \"Default\", \"Default\", \"Default\", \"Default\", \"Default\", \"Default\", \"Default\", \"Topic1\", \"Topic1\", \"Topic1\", \"Topic1\", \"Topic1\", \"Topic1\", \"Topic1\", \"Topic1\", \"Topic1\", \"Topic1\", \"Topic1\", \"Topic1\", \"Topic1\", \"Topic1\", \"Topic1\", \"Topic1\", \"Topic1\", \"Topic1\", \"Topic1\", \"Topic1\", \"Topic1\", \"Topic1\", \"Topic1\", \"Topic1\", \"Topic1\", \"Topic1\", \"Topic1\", \"Topic1\", \"Topic1\", \"Topic1\", \"Topic1\", \"Topic1\", \"Topic1\", \"Topic1\", \"Topic1\", \"Topic1\", \"Topic1\", \"Topic1\", \"Topic1\", \"Topic1\", \"Topic1\", \"Topic2\", \"Topic2\", \"Topic2\", \"Topic2\", \"Topic2\", \"Topic2\", \"Topic2\", \"Topic2\", \"Topic2\", \"Topic2\", \"Topic2\", \"Topic2\", \"Topic2\", \"Topic2\", \"Topic2\", \"Topic2\", \"Topic2\", \"Topic2\", \"Topic2\", \"Topic2\", \"Topic2\", \"Topic2\", \"Topic2\", \"Topic2\", \"Topic2\", \"Topic2\", \"Topic2\", \"Topic2\", \"Topic2\", \"Topic2\", \"Topic2\", \"Topic2\", \"Topic2\", \"Topic2\", \"Topic2\", \"Topic2\", \"Topic2\", \"Topic2\", \"Topic2\", \"Topic2\", \"Topic2\", \"Topic2\", \"Topic2\", \"Topic2\", \"Topic2\", \"Topic2\", \"Topic2\", \"Topic2\", \"Topic2\", \"Topic2\", \"Topic2\", \"Topic2\", \"Topic2\"], \"logprob\": [30.0, 29.0, 28.0, 27.0, 26.0, 25.0, 24.0, 23.0, 22.0, 21.0, 20.0, 19.0, 18.0, 17.0, 16.0, 15.0, 14.0, 13.0, 12.0, 11.0, 10.0, 9.0, 8.0, 7.0, 6.0, 5.0, 4.0, 3.0, 2.0, 1.0, -3.3516, -3.7699, -3.8072, -3.4581, -4.7882, -4.1501, -5.0437, -4.5363, -5.1591, -5.1045, -4.9734, -5.1135, -5.3111, -4.9173, -5.1921, -5.5447, -5.6532, -5.572, -5.6647, -5.508, -5.5247, -5.8486, -5.763, -5.1267, -5.7919, -5.9655, -5.4096, -5.8128, -5.9216, -5.744, -4.9455, -3.461, -4.4255, -3.7217, -3.5398, -4.0481, -4.8102, -5.5034, -5.2638, -5.4167, -5.4502, -3.697, -3.9002, -4.2076, -4.3295, -4.493, -5.321, -5.5028, -5.6218, -5.8407, -6.0719, -5.9395, -6.1719, -6.2587, -6.3182, -6.1897, -6.2976, -6.2526, -6.3812, -6.3441, -6.4698, -6.325, -6.0626, -6.2473, -6.4103, -6.4798, -6.3411, -6.0419, -6.5042, -6.1465, -6.5558, -4.4483, -5.4385, -4.2948, -6.1146, -6.267, -5.084, -6.2574, -4.8371, -4.9155, -5.5089, -4.654, -5.6078, -4.7566, -3.9827, -5.1208, -5.4764, -4.7019, -5.3138, -5.8159, -5.4463, -5.3588, -5.8647, -5.4363], \"loglift\": [30.0, 29.0, 28.0, 27.0, 26.0, 25.0, 24.0, 23.0, 22.0, 21.0, 20.0, 19.0, 18.0, 17.0, 16.0, 15.0, 14.0, 13.0, 12.0, 11.0, 10.0, 9.0, 8.0, 7.0, 6.0, 5.0, 4.0, 3.0, 2.0, 1.0, 0.4859, 0.4857, 0.4857, 0.4857, 0.484, 0.4838, 0.4835, 0.4833, 0.4832, 0.483, 0.4828, 0.4823, 0.4823, 0.4816, 0.4815, 0.4814, 0.4808, 0.4808, 0.4806, 0.4806, 0.4801, 0.4799, 0.4795, 0.4794, 0.4789, 0.4785, 0.4783, 0.4779, 0.4778, 0.4777, 0.4498, 0.4033, 0.4088, 0.3716, 0.1484, 0.2045, 0.2001, 0.3995, 0.019, -0.3077, -0.3845, 0.9511, 0.951, 0.9508, 0.9495, 0.949, 0.9442, 0.9432, 0.9399, 0.9361, 0.9325, 0.9317, 0.9315, 0.9301, 0.9283, 0.9279, 0.9278, 0.9259, 0.9253, 0.9249, 0.9246, 0.9244, 0.9243, 0.9239, 0.9226, 0.9225, 0.9225, 0.9221, 0.9216, 0.9215, 0.9209, 0.9134, 0.9168, 0.8828, 0.9176, 0.9196, 0.8352, 0.9157, 0.6522, 0.645, 0.7145, 0.4116, 0.7082, 0.3524, -0.2945, 0.3051, 0.4783, -0.4493, -0.0311, 0.3856, -0.436, -1.2655, 0.2404, -1.572]}, \"token.table\": {\"Topic\": [1, 2, 1, 2, 1, 1, 2, 1, 1, 2, 1, 2, 1, 2, 1, 2, 1, 2, 1, 2, 1, 2, 1, 2, 1, 2, 1, 1, 1, 2, 1, 2, 1, 2, 1, 2, 1, 2, 1, 2, 1, 2, 1, 2, 1, 2, 1, 2, 1, 2, 1, 2, 1, 2, 1, 1, 1, 1, 1, 2, 1, 2, 1, 2, 1, 1, 2, 1, 2, 1, 2, 1, 2, 1, 2, 1, 2, 1, 2, 1, 2, 1, 2, 1, 2, 1, 2, 1, 2, 1, 2, 1, 2, 1, 2, 1, 2, 1, 2, 1, 1, 2, 1, 2, 1, 2, 1, 2, 1, 1, 2, 1, 2, 1, 2, 1, 2, 1, 2, 1, 2, 1, 2, 1, 2, 1, 2, 1, 2, 1, 2, 1, 2, 1, 1, 2, 1, 2, 1, 2, 1, 2, 1, 2, 1, 1, 1, 2, 1, 1, 1, 2, 1, 2, 1], \"Freq\": [0.11727199679000651, 0.8912671756040494, 0.0040303784307327934, 0.9955034723910001, 0.9888505818758015, 0.02229469193909193, 0.9809664453200451, 0.9931536514870889, 0.006182286308050558, 0.9953480955961398, 0.8915492645128608, 0.10955478250369899, 0.033338577647255015, 0.9668187517703954, 0.9929827429857252, 0.008487031991330985, 0.9194194173082761, 0.07962292339434418, 0.41953168091336623, 0.5793532736422676, 0.051678242662485274, 0.9818866105872203, 0.03038133895515525, 0.972202846564968, 0.040293054850562324, 0.9603178072717353, 0.9957389735553143, 0.9884606695348932, 0.04422113942881906, 0.9728650674340193, 0.04498057750084887, 0.9895727050186751, 0.9968987498270901, 0.00476985047764158, 0.983925651985091, 0.015869768580404692, 0.3766739298176875, 0.619689368409744, 0.996701847446341, 0.006969942989135252, 0.9907516404904984, 0.009173626300837947, 0.05127177204144906, 0.974163668787532, 0.0072770018809114705, 0.9969492576848715, 0.0032897824328218576, 0.9968040771450228, 0.9989853915793998, 0.0014626433258849193, 0.7129848277351094, 0.2872094359074292, 0.045225939127405454, 0.9497447216755145, 1.0000134908010572, 0.9857120503629588, 0.9885637290087513, 0.9917720933216192, 0.2066562408682811, 0.794831695647235, 0.9946651965556101, 0.008574699970306984, 0.06703405930847588, 0.9328906587096225, 0.9997977235437029, 0.016575877811079363, 0.9945526686647618, 0.43543803731181835, 0.559848905115195, 0.05566649559497463, 0.9463304251145687, 0.04131165991714706, 0.9914798380115295, 0.027647025791357825, 0.9952929284888817, 0.9888442321816733, 0.011366025657260612, 0.03569090627595854, 0.9636544694508807, 0.046956843464186465, 0.9860937127479158, 0.04101248586337858, 0.984299660721086, 0.9652745993018697, 0.03472210788855646, 0.019859508377470046, 0.9929754188735024, 0.0054798019746921355, 0.9973239593939687, 0.7531235586990054, 0.24587269122232236, 0.036279161382903644, 0.9613977766469466, 0.03411237297595204, 0.9551464433266571, 0.7514148083318228, 0.25047160277727426, 0.9957588229005434, 0.003243514081109262, 0.9917962601744469, 0.03887189210211408, 0.9717973025528519, 0.03471161304003347, 0.9719251651209373, 0.03832478858724401, 0.9964445032683442, 0.04820952472398459, 0.9641904944796919, 0.9930357477572868, 0.041739544500606685, 0.9600095235139539, 0.4537606789447703, 0.5476421987264469, 0.04109116892694774, 0.9450968853197981, 0.20927109946938244, 0.7847666230101842, 0.9862050408600219, 0.017003535187241757, 0.03699266215850733, 0.9618092161211905, 0.9114916330263291, 0.08076508140739624, 0.04329778976354842, 0.9958491645616138, 0.2594031948056218, 0.7400620557689798, 0.04435021600418261, 0.9757047520920173, 0.05290871714865162, 0.9523569086757292, 0.9964403211939169, 0.012774875912742524, 0.999758387503175, 0.04164836631372796, 0.957912425215743, 0.5084205763894244, 0.49429778260082924, 0.923363032774993, 0.07529569795160887, 0.2621744323582696, 0.7373655910076332, 0.9964638723567396, 0.007381213869309183, 0.9947711537497129, 0.9984367894728748, 0.47980049142161224, 0.5227676996086223, 0.9927458990699884, 0.991017858217425, 0.6267896808272653, 0.37235030544193976, 0.9987014972608322, 0.0016265496698059157, 0.9985663493681977], \"Term\": [\"add\", \"add\", \"added\", \"added\", \"ade\", \"ads\", \"ads\", \"ake\", \"andrid\", \"andrid\", \"app\", \"app\", \"audi\", \"audi\", \"better\", \"better\", \"bug\", \"bug\", \"bugs\", \"bugs\", \"buttn\", \"buttn\", \"dark\", \"dark\", \"de\", \"de\", \"enhaneents\", \"enjy\", \"errrs\", \"errrs\", \"et\", \"et\", \"experiene\", \"experiene\", \"faster\", \"faster\", \"feature\", \"feature\", \"features\", \"features\", \"feedbak\", \"feedbak\", \"file\", \"file\", \"fix\", \"fix\", \"fixed\", \"fixed\", \"fixes\", \"fixes\", \"fr\", \"fr\", \"funtin\", \"funtin\", \"general\", \"get\", \"help\", \"inludes\", \"interfae\", \"interfae\", \"iprve\", \"iprve\", \"iprved\", \"iprved\", \"iprveents\", \"issue\", \"issue\", \"issues\", \"issues\", \"japanese\", \"japanese\", \"la\", \"la\", \"language\", \"language\", \"latest\", \"latest\", \"latin\", \"latin\", \"libraries\", \"libraries\", \"list\", \"list\", \"minr\", \"minr\", \"name\", \"name\", \"nan\", \"nan\", \"new\", \"new\", \"nt\", \"nt\", \"ntifiatin\", \"ntifiatin\", \"nw\", \"nw\", \"perfrane\", \"perfrane\", \"please\", \"pliy\", \"pliy\", \"ptin\", \"ptin\", \"rash\", \"rash\", \"rashes\", \"rashes\", \"release\", \"reved\", \"reved\", \"se\", \"se\", \"setting\", \"setting\", \"settings\", \"settings\", \"seurity\", \"seurity\", \"size\", \"size\", \"stability\", \"stability\", \"sund\", \"sund\", \"supprt\", \"supprt\", \"syste\", \"syste\", \"text\", \"text\", \"thank\", \"thank\", \"thanks\", \"thee\", \"thee\", \"ui\", \"ui\", \"update\", \"update\", \"updated\", \"updated\", \"updates\", \"updates\", \"ur\", \"us\", \"user\", \"user\", \"using\", \"ut\", \"versin\", \"versin\", \"yu\", \"yu\", \"yur\"]}, \"R\": 30, \"lambda.step\": 0.01, \"plot.opts\": {\"xlab\": \"PC1\", \"ylab\": \"PC2\"}, \"topic.order\": [2, 1]};\n",
              "\n",
              "function LDAvis_load_lib(url, callback){\n",
              "  var s = document.createElement('script');\n",
              "  s.src = url;\n",
              "  s.async = true;\n",
              "  s.onreadystatechange = s.onload = callback;\n",
              "  s.onerror = function(){console.warn(\"failed to load library \" + url);};\n",
              "  document.getElementsByTagName(\"head\")[0].appendChild(s);\n",
              "}\n",
              "\n",
              "if(typeof(LDAvis) !== \"undefined\"){\n",
              "   // already loaded: just create the visualization\n",
              "   !function(LDAvis){\n",
              "       new LDAvis(\"#\" + \"ldavis_el76713385496052200027399056\", ldavis_el76713385496052200027399056_data);\n",
              "   }(LDAvis);\n",
              "}else if(typeof define === \"function\" && define.amd){\n",
              "   // require.js is available: use it to load d3/LDAvis\n",
              "   require.config({paths: {d3: \"https://d3js.org/d3.v5\"}});\n",
              "   require([\"d3\"], function(d3){\n",
              "      window.d3 = d3;\n",
              "      LDAvis_load_lib(\"https://cdn.jsdelivr.net/gh/bmabey/pyLDAvis@3.4.0/pyLDAvis/js/ldavis.v3.0.0.js\", function(){\n",
              "        new LDAvis(\"#\" + \"ldavis_el76713385496052200027399056\", ldavis_el76713385496052200027399056_data);\n",
              "      });\n",
              "    });\n",
              "}else{\n",
              "    // require.js not available: dynamically load d3 & LDAvis\n",
              "    LDAvis_load_lib(\"https://d3js.org/d3.v5.js\", function(){\n",
              "         LDAvis_load_lib(\"https://cdn.jsdelivr.net/gh/bmabey/pyLDAvis@3.4.0/pyLDAvis/js/ldavis.v3.0.0.js\", function(){\n",
              "                 new LDAvis(\"#\" + \"ldavis_el76713385496052200027399056\", ldavis_el76713385496052200027399056_data);\n",
              "            })\n",
              "         });\n",
              "}\n",
              "</script>"
            ]
          },
          "metadata": {},
          "execution_count": 17
        }
      ]
    },
    {
      "cell_type": "code",
      "source": [
        "def format_topics_sentences(ldamodel=lda_model, corpus=corpus, texts=data_words):\n",
        "    # Init output\n",
        "    rows = []\n",
        "\n",
        "    # Get main topic in each document\n",
        "    for i, row in enumerate(ldamodel[corpus]):\n",
        "        row = sorted(row, key=lambda x: (x[1]), reverse=True)\n",
        "        # Get the Dominant topic, Perc Contribution and Keywords for each document\n",
        "        for j, (topic_num, prop_topic) in enumerate(row):\n",
        "            if j == 0:  # => dominant topic\n",
        "                wp = ldamodel.show_topic(topic_num)\n",
        "                topic_keywords = \", \".join([word for word, prop in wp])\n",
        "                rows.append([int(topic_num), round(prop_topic, 4), topic_keywords, texts[i]])\n",
        "            else:\n",
        "                break\n",
        "\n",
        "    # Convert the list of rows to a DataFrame\n",
        "    sent_topics_df = pd.DataFrame(rows, columns=['Dominant_Topic', 'Perc_Contribution', 'Topic_Keywords', 'Text'])\n",
        "\n",
        "    return sent_topics_df\n",
        "\n",
        "df_topic_sents_keywords = format_topics_sentences(ldamodel=lda_model, corpus=corpus, texts=data)\n",
        "\n",
        "# Format\n",
        "df_dominant_topic = df_topic_sents_keywords.reset_index()\n",
        "df_dominant_topic.columns = ['Document_No', 'Dominant_Topic', 'Topic_Perc_Contrib', 'Keywords', 'Text']\n",
        "df_dominant_topic.insert(1, \"App_name\", papers['title'])\n",
        "del df_dominant_topic['Document_No']\n",
        "# Show\n",
        "df_dominant_topic.head(10)"
      ],
      "metadata": {
        "colab": {
          "base_uri": "https://localhost:8080/",
          "height": 461
        },
        "id": "W_OXdoY8SsVh",
        "outputId": "9771b813-ea67-45e4-e10a-2ecbecff45d9"
      },
      "execution_count": null,
      "outputs": [
        {
          "output_type": "stream",
          "name": "stderr",
          "text": [
            "/usr/local/lib/python3.10/dist-packages/ipykernel/ipkernel.py:283: DeprecationWarning: `should_run_async` will not call `transform_cell` automatically in the future. Please pass the result to `transformed_cell` argument and any exception that happen during thetransform in `preprocessing_exc_tuple` in IPython 7.17 and above.\n",
            "  and should_run_async(code)\n"
          ]
        },
        {
          "output_type": "execute_result",
          "data": {
            "text/plain": [
              "                         App_name  Dominant_Topic  Topic_Perc_Contrib  \\\n",
              "0  Eye Filter (Blue light filter)               0              0.7069   \n",
              "1   Drizly: Fast alcohol delivery               1              0.7351   \n",
              "2              Card Maker for PKM               1              0.5780   \n",
              "3   Progression - Workout Tracker               0              0.7500   \n",
              "4                     My Finances               0              0.8790   \n",
              "5        0-200 Situps Abs Trainer               1              0.9297   \n",
              "6             WDSU Parade Tracker               1              0.9375   \n",
              "7                Animal Planet GO               1              0.9446   \n",
              "8     Fuelmeter: Fuel consumption               0              0.7500   \n",
              "9    Wishbone -  Compare Anything               1              0.8300   \n",
              "\n",
              "                                            Keywords  \\\n",
              "0  fixed, added, fr, nan, iprved, andrid, de, fix...   \n",
              "1  fixes, yu, bug, fr, app, iprveents, yur, new, ...   \n",
              "2  fixes, yu, bug, fr, app, iprveents, yur, new, ...   \n",
              "3  fixed, added, fr, nan, iprved, andrid, de, fix...   \n",
              "4  fixed, added, fr, nan, iprved, andrid, de, fix...   \n",
              "5  fixes, yu, bug, fr, app, iprveents, yur, new, ...   \n",
              "6  fixes, yu, bug, fr, app, iprveents, yur, new, ...   \n",
              "7  fixes, yu, bug, fr, app, iprveents, yur, new, ...   \n",
              "8  fixed, added, fr, nan, iprved, andrid, de, fix...   \n",
              "9  fixes, yu, bug, fr, app, iprveents, yur, new, ...   \n",
              "\n",
              "                                                Text  \n",
              "0            minr iprveent.\\r\\nallw reve ads by iap.  \n",
              "1  fixes bug with faebk lgin and reating a new dr...  \n",
              "2                       - 🛠 iprveent and bug fix !!   \n",
              "3                                                nan  \n",
              "4                               fix fr fullsreen ads  \n",
              "5    suer is in full effet, let's get that beah bdy!  \n",
              "6  as parades begin t return t new orleans the wd...  \n",
              "7  • nw streaing ntent fr up t 14 netwrks fr the ...  \n",
              "8                                                nan  \n",
              "9                                          bug fixes  "
            ],
            "text/html": [
              "\n",
              "\n",
              "  <div id=\"df-75964714-af4e-40a9-a967-09171882f430\">\n",
              "    <div class=\"colab-df-container\">\n",
              "      <div>\n",
              "<style scoped>\n",
              "    .dataframe tbody tr th:only-of-type {\n",
              "        vertical-align: middle;\n",
              "    }\n",
              "\n",
              "    .dataframe tbody tr th {\n",
              "        vertical-align: top;\n",
              "    }\n",
              "\n",
              "    .dataframe thead th {\n",
              "        text-align: right;\n",
              "    }\n",
              "</style>\n",
              "<table border=\"1\" class=\"dataframe\">\n",
              "  <thead>\n",
              "    <tr style=\"text-align: right;\">\n",
              "      <th></th>\n",
              "      <th>App_name</th>\n",
              "      <th>Dominant_Topic</th>\n",
              "      <th>Topic_Perc_Contrib</th>\n",
              "      <th>Keywords</th>\n",
              "      <th>Text</th>\n",
              "    </tr>\n",
              "  </thead>\n",
              "  <tbody>\n",
              "    <tr>\n",
              "      <th>0</th>\n",
              "      <td>Eye Filter (Blue light filter)</td>\n",
              "      <td>0</td>\n",
              "      <td>0.7069</td>\n",
              "      <td>fixed, added, fr, nan, iprved, andrid, de, fix...</td>\n",
              "      <td>minr iprveent.\\r\\nallw reve ads by iap.</td>\n",
              "    </tr>\n",
              "    <tr>\n",
              "      <th>1</th>\n",
              "      <td>Drizly: Fast alcohol delivery</td>\n",
              "      <td>1</td>\n",
              "      <td>0.7351</td>\n",
              "      <td>fixes, yu, bug, fr, app, iprveents, yur, new, ...</td>\n",
              "      <td>fixes bug with faebk lgin and reating a new dr...</td>\n",
              "    </tr>\n",
              "    <tr>\n",
              "      <th>2</th>\n",
              "      <td>Card Maker for PKM</td>\n",
              "      <td>1</td>\n",
              "      <td>0.5780</td>\n",
              "      <td>fixes, yu, bug, fr, app, iprveents, yur, new, ...</td>\n",
              "      <td>- 🛠 iprveent and bug fix !!</td>\n",
              "    </tr>\n",
              "    <tr>\n",
              "      <th>3</th>\n",
              "      <td>Progression - Workout Tracker</td>\n",
              "      <td>0</td>\n",
              "      <td>0.7500</td>\n",
              "      <td>fixed, added, fr, nan, iprved, andrid, de, fix...</td>\n",
              "      <td>nan</td>\n",
              "    </tr>\n",
              "    <tr>\n",
              "      <th>4</th>\n",
              "      <td>My Finances</td>\n",
              "      <td>0</td>\n",
              "      <td>0.8790</td>\n",
              "      <td>fixed, added, fr, nan, iprved, andrid, de, fix...</td>\n",
              "      <td>fix fr fullsreen ads</td>\n",
              "    </tr>\n",
              "    <tr>\n",
              "      <th>5</th>\n",
              "      <td>0-200 Situps Abs Trainer</td>\n",
              "      <td>1</td>\n",
              "      <td>0.9297</td>\n",
              "      <td>fixes, yu, bug, fr, app, iprveents, yur, new, ...</td>\n",
              "      <td>suer is in full effet, let's get that beah bdy!</td>\n",
              "    </tr>\n",
              "    <tr>\n",
              "      <th>6</th>\n",
              "      <td>WDSU Parade Tracker</td>\n",
              "      <td>1</td>\n",
              "      <td>0.9375</td>\n",
              "      <td>fixes, yu, bug, fr, app, iprveents, yur, new, ...</td>\n",
              "      <td>as parades begin t return t new orleans the wd...</td>\n",
              "    </tr>\n",
              "    <tr>\n",
              "      <th>7</th>\n",
              "      <td>Animal Planet GO</td>\n",
              "      <td>1</td>\n",
              "      <td>0.9446</td>\n",
              "      <td>fixes, yu, bug, fr, app, iprveents, yur, new, ...</td>\n",
              "      <td>• nw streaing ntent fr up t 14 netwrks fr the ...</td>\n",
              "    </tr>\n",
              "    <tr>\n",
              "      <th>8</th>\n",
              "      <td>Fuelmeter: Fuel consumption</td>\n",
              "      <td>0</td>\n",
              "      <td>0.7500</td>\n",
              "      <td>fixed, added, fr, nan, iprved, andrid, de, fix...</td>\n",
              "      <td>nan</td>\n",
              "    </tr>\n",
              "    <tr>\n",
              "      <th>9</th>\n",
              "      <td>Wishbone -  Compare Anything</td>\n",
              "      <td>1</td>\n",
              "      <td>0.8300</td>\n",
              "      <td>fixes, yu, bug, fr, app, iprveents, yur, new, ...</td>\n",
              "      <td>bug fixes</td>\n",
              "    </tr>\n",
              "  </tbody>\n",
              "</table>\n",
              "</div>\n",
              "      <button class=\"colab-df-convert\" onclick=\"convertToInteractive('df-75964714-af4e-40a9-a967-09171882f430')\"\n",
              "              title=\"Convert this dataframe to an interactive table.\"\n",
              "              style=\"display:none;\">\n",
              "\n",
              "  <svg xmlns=\"http://www.w3.org/2000/svg\" height=\"24px\"viewBox=\"0 0 24 24\"\n",
              "       width=\"24px\">\n",
              "    <path d=\"M0 0h24v24H0V0z\" fill=\"none\"/>\n",
              "    <path d=\"M18.56 5.44l.94 2.06.94-2.06 2.06-.94-2.06-.94-.94-2.06-.94 2.06-2.06.94zm-11 1L8.5 8.5l.94-2.06 2.06-.94-2.06-.94L8.5 2.5l-.94 2.06-2.06.94zm10 10l.94 2.06.94-2.06 2.06-.94-2.06-.94-.94-2.06-.94 2.06-2.06.94z\"/><path d=\"M17.41 7.96l-1.37-1.37c-.4-.4-.92-.59-1.43-.59-.52 0-1.04.2-1.43.59L10.3 9.45l-7.72 7.72c-.78.78-.78 2.05 0 2.83L4 21.41c.39.39.9.59 1.41.59.51 0 1.02-.2 1.41-.59l7.78-7.78 2.81-2.81c.8-.78.8-2.07 0-2.86zM5.41 20L4 18.59l7.72-7.72 1.47 1.35L5.41 20z\"/>\n",
              "  </svg>\n",
              "      </button>\n",
              "\n",
              "\n",
              "\n",
              "    <div id=\"df-fc2afe5c-0570-4aca-8c93-99aef3ac17ce\">\n",
              "      <button class=\"colab-df-quickchart\" onclick=\"quickchart('df-fc2afe5c-0570-4aca-8c93-99aef3ac17ce')\"\n",
              "              title=\"Suggest charts.\"\n",
              "              style=\"display:none;\">\n",
              "\n",
              "<svg xmlns=\"http://www.w3.org/2000/svg\" height=\"24px\"viewBox=\"0 0 24 24\"\n",
              "     width=\"24px\">\n",
              "    <g>\n",
              "        <path d=\"M19 3H5c-1.1 0-2 .9-2 2v14c0 1.1.9 2 2 2h14c1.1 0 2-.9 2-2V5c0-1.1-.9-2-2-2zM9 17H7v-7h2v7zm4 0h-2V7h2v10zm4 0h-2v-4h2v4z\"/>\n",
              "    </g>\n",
              "</svg>\n",
              "      </button>\n",
              "    </div>\n",
              "\n",
              "<style>\n",
              "  .colab-df-quickchart {\n",
              "    background-color: #E8F0FE;\n",
              "    border: none;\n",
              "    border-radius: 50%;\n",
              "    cursor: pointer;\n",
              "    display: none;\n",
              "    fill: #1967D2;\n",
              "    height: 32px;\n",
              "    padding: 0 0 0 0;\n",
              "    width: 32px;\n",
              "  }\n",
              "\n",
              "  .colab-df-quickchart:hover {\n",
              "    background-color: #E2EBFA;\n",
              "    box-shadow: 0px 1px 2px rgba(60, 64, 67, 0.3), 0px 1px 3px 1px rgba(60, 64, 67, 0.15);\n",
              "    fill: #174EA6;\n",
              "  }\n",
              "\n",
              "  [theme=dark] .colab-df-quickchart {\n",
              "    background-color: #3B4455;\n",
              "    fill: #D2E3FC;\n",
              "  }\n",
              "\n",
              "  [theme=dark] .colab-df-quickchart:hover {\n",
              "    background-color: #434B5C;\n",
              "    box-shadow: 0px 1px 3px 1px rgba(0, 0, 0, 0.15);\n",
              "    filter: drop-shadow(0px 1px 2px rgba(0, 0, 0, 0.3));\n",
              "    fill: #FFFFFF;\n",
              "  }\n",
              "</style>\n",
              "\n",
              "    <script>\n",
              "      async function quickchart(key) {\n",
              "        const containerElement = document.querySelector('#' + key);\n",
              "        const charts = await google.colab.kernel.invokeFunction(\n",
              "            'suggestCharts', [key], {});\n",
              "      }\n",
              "    </script>\n",
              "\n",
              "      <script>\n",
              "\n",
              "function displayQuickchartButton(domScope) {\n",
              "  let quickchartButtonEl =\n",
              "    domScope.querySelector('#df-fc2afe5c-0570-4aca-8c93-99aef3ac17ce button.colab-df-quickchart');\n",
              "  quickchartButtonEl.style.display =\n",
              "    google.colab.kernel.accessAllowed ? 'block' : 'none';\n",
              "}\n",
              "\n",
              "        displayQuickchartButton(document);\n",
              "      </script>\n",
              "      <style>\n",
              "    .colab-df-container {\n",
              "      display:flex;\n",
              "      flex-wrap:wrap;\n",
              "      gap: 12px;\n",
              "    }\n",
              "\n",
              "    .colab-df-convert {\n",
              "      background-color: #E8F0FE;\n",
              "      border: none;\n",
              "      border-radius: 50%;\n",
              "      cursor: pointer;\n",
              "      display: none;\n",
              "      fill: #1967D2;\n",
              "      height: 32px;\n",
              "      padding: 0 0 0 0;\n",
              "      width: 32px;\n",
              "    }\n",
              "\n",
              "    .colab-df-convert:hover {\n",
              "      background-color: #E2EBFA;\n",
              "      box-shadow: 0px 1px 2px rgba(60, 64, 67, 0.3), 0px 1px 3px 1px rgba(60, 64, 67, 0.15);\n",
              "      fill: #174EA6;\n",
              "    }\n",
              "\n",
              "    [theme=dark] .colab-df-convert {\n",
              "      background-color: #3B4455;\n",
              "      fill: #D2E3FC;\n",
              "    }\n",
              "\n",
              "    [theme=dark] .colab-df-convert:hover {\n",
              "      background-color: #434B5C;\n",
              "      box-shadow: 0px 1px 3px 1px rgba(0, 0, 0, 0.15);\n",
              "      filter: drop-shadow(0px 1px 2px rgba(0, 0, 0, 0.3));\n",
              "      fill: #FFFFFF;\n",
              "    }\n",
              "  </style>\n",
              "\n",
              "      <script>\n",
              "        const buttonEl =\n",
              "          document.querySelector('#df-75964714-af4e-40a9-a967-09171882f430 button.colab-df-convert');\n",
              "        buttonEl.style.display =\n",
              "          google.colab.kernel.accessAllowed ? 'block' : 'none';\n",
              "\n",
              "        async function convertToInteractive(key) {\n",
              "          const element = document.querySelector('#df-75964714-af4e-40a9-a967-09171882f430');\n",
              "          const dataTable =\n",
              "            await google.colab.kernel.invokeFunction('convertToInteractive',\n",
              "                                                     [key], {});\n",
              "          if (!dataTable) return;\n",
              "\n",
              "          const docLinkHtml = 'Like what you see? Visit the ' +\n",
              "            '<a target=\"_blank\" href=https://colab.research.google.com/notebooks/data_table.ipynb>data table notebook</a>'\n",
              "            + ' to learn more about interactive tables.';\n",
              "          element.innerHTML = '';\n",
              "          dataTable['output_type'] = 'display_data';\n",
              "          await google.colab.output.renderOutput(dataTable, element);\n",
              "          const docLink = document.createElement('div');\n",
              "          docLink.innerHTML = docLinkHtml;\n",
              "          element.appendChild(docLink);\n",
              "        }\n",
              "      </script>\n",
              "    </div>\n",
              "  </div>\n"
            ]
          },
          "metadata": {},
          "execution_count": 18
        }
      ]
    },
    {
      "cell_type": "code",
      "source": [
        "from google.colab import files\n",
        "df_dominant_topic.to_csv('Recent_Changes_analysis.csv', encoding = 'utf-8-sig')\n",
        "files.download('Recent_Changes_analysis.csv')"
      ],
      "metadata": {
        "colab": {
          "base_uri": "https://localhost:8080/",
          "height": 72
        },
        "id": "QIoAwwILgirO",
        "outputId": "9ec4558a-aaae-4ad3-fae6-6ea74c6b5181"
      },
      "execution_count": null,
      "outputs": [
        {
          "output_type": "stream",
          "name": "stderr",
          "text": [
            "/usr/local/lib/python3.10/dist-packages/ipykernel/ipkernel.py:283: DeprecationWarning: `should_run_async` will not call `transform_cell` automatically in the future. Please pass the result to `transformed_cell` argument and any exception that happen during thetransform in `preprocessing_exc_tuple` in IPython 7.17 and above.\n",
            "  and should_run_async(code)\n"
          ]
        },
        {
          "output_type": "display_data",
          "data": {
            "text/plain": [
              "<IPython.core.display.Javascript object>"
            ],
            "application/javascript": [
              "\n",
              "    async function download(id, filename, size) {\n",
              "      if (!google.colab.kernel.accessAllowed) {\n",
              "        return;\n",
              "      }\n",
              "      const div = document.createElement('div');\n",
              "      const label = document.createElement('label');\n",
              "      label.textContent = `Downloading \"${filename}\": `;\n",
              "      div.appendChild(label);\n",
              "      const progress = document.createElement('progress');\n",
              "      progress.max = size;\n",
              "      div.appendChild(progress);\n",
              "      document.body.appendChild(div);\n",
              "\n",
              "      const buffers = [];\n",
              "      let downloaded = 0;\n",
              "\n",
              "      const channel = await google.colab.kernel.comms.open(id);\n",
              "      // Send a message to notify the kernel that we're ready.\n",
              "      channel.send({})\n",
              "\n",
              "      for await (const message of channel.messages) {\n",
              "        // Send a message to notify the kernel that we're ready.\n",
              "        channel.send({})\n",
              "        if (message.buffers) {\n",
              "          for (const buffer of message.buffers) {\n",
              "            buffers.push(buffer);\n",
              "            downloaded += buffer.byteLength;\n",
              "            progress.value = downloaded;\n",
              "          }\n",
              "        }\n",
              "      }\n",
              "      const blob = new Blob(buffers, {type: 'application/binary'});\n",
              "      const a = document.createElement('a');\n",
              "      a.href = window.URL.createObjectURL(blob);\n",
              "      a.download = filename;\n",
              "      div.appendChild(a);\n",
              "      a.click();\n",
              "      div.remove();\n",
              "    }\n",
              "  "
            ]
          },
          "metadata": {}
        },
        {
          "output_type": "display_data",
          "data": {
            "text/plain": [
              "<IPython.core.display.Javascript object>"
            ],
            "application/javascript": [
              "download(\"download_d1d4b74c-3fcc-4af1-b6f4-997ce15a7327\", \"Recent_Changes_analysis.csv\", 482511)"
            ]
          },
          "metadata": {}
        }
      ]
    }
  ]
}