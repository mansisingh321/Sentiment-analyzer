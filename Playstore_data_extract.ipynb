{
  "cells": [
    {
      "cell_type": "markdown",
      "source": [
        "google-play-scraper is used to scrap the data from play store, I have referred to the following git which acted as an API to extract the data (https://github.com/JoMingyu/google-play-scraper)"
      ],
      "metadata": {
        "id": "2uwA4j4Gw_qJ"
      }
    },
    {
      "cell_type": "code",
      "execution_count": 1,
      "metadata": {
        "colab": {
          "base_uri": "https://localhost:8080/"
        },
        "id": "gMcNidGquVey",
        "outputId": "d192ebe3-2a7f-4ec3-ddfa-0bde289f2abe"
      },
      "outputs": [
        {
          "output_type": "stream",
          "name": "stdout",
          "text": [
            "Collecting google-play-scraper\n",
            "  Downloading google_play_scraper-1.2.4-py3-none-any.whl (28 kB)\n",
            "Installing collected packages: google-play-scraper\n",
            "Successfully installed google-play-scraper-1.2.4\n"
          ]
        }
      ],
      "source": [
        "pip install google-play-scraper"
      ]
    },
    {
      "cell_type": "markdown",
      "source": [
        "i is the appId which will be used to extract the data from the play store utilised in function app; appi is a list which stores the data called through app function\n"
      ],
      "metadata": {
        "id": "2jgSyWXRxQoE"
      }
    },
    {
      "cell_type": "code",
      "execution_count": 4,
      "metadata": {
        "id": "845_XYqxufhI"
      },
      "outputs": [],
      "source": [
        "import requests\n",
        "from bs4 import BeautifulSoup\n",
        "\n",
        "api=[]\n",
        "desc=[]\n",
        "url = \"https://play.google.com/store/apps/details?id=\"\n",
        "import pandas as pd\n",
        "app_df = pd.read_csv('playstore.csv')\n",
        "app_ids = list(app_df['App Package Name'])\n",
        "for x in app_ids:\n",
        "    r = requests.get(url + x)\n",
        "    htmlContent = r.content\n",
        "    soup = BeautifulSoup(htmlContent, 'html.parser')\n",
        "    updateDate = soup.find(\"div\", {\"class\": \"xg1aie\"})\n",
        "    api.append(updateDate.get_text())\n",
        "    soup_desc = BeautifulSoup(htmlContent, 'html.parser')\n",
        "    update_desc = soup_desc.find(\"div\", {\"class\": \"bARER\"})\n",
        "    desc.append(update_desc.get_text())\n",
        "in_df = pd.DataFrame(api)\n",
        "desc_df = pd.DataFrame(desc)\n",
        "app_df.insert(1,'Updated Date',in_df)\n",
        "app_df.insert(2,'Description',desc_df)"
      ]
    },
    {
      "cell_type": "markdown",
      "source": [
        "files.download will be used to download the csv file which contains data of app which will be 'final.csv'"
      ],
      "metadata": {
        "id": "1mcK_KtgzUrs"
      }
    },
    {
      "cell_type": "code",
      "source": [
        "pip install requests"
      ],
      "metadata": {
        "id": "YDDnq9HZIhqZ",
        "colab": {
          "base_uri": "https://localhost:8080/"
        },
        "outputId": "31332c96-566d-4d7d-a972-dbbafe02fb10"
      },
      "execution_count": 2,
      "outputs": [
        {
          "output_type": "stream",
          "name": "stdout",
          "text": [
            "Requirement already satisfied: requests in /usr/local/lib/python3.10/dist-packages (2.27.1)\n",
            "Requirement already satisfied: urllib3<1.27,>=1.21.1 in /usr/local/lib/python3.10/dist-packages (from requests) (1.26.16)\n",
            "Requirement already satisfied: certifi>=2017.4.17 in /usr/local/lib/python3.10/dist-packages (from requests) (2023.5.7)\n",
            "Requirement already satisfied: charset-normalizer~=2.0.0 in /usr/local/lib/python3.10/dist-packages (from requests) (2.0.12)\n",
            "Requirement already satisfied: idna<4,>=2.5 in /usr/local/lib/python3.10/dist-packages (from requests) (3.4)\n"
          ]
        }
      ]
    },
    {
      "cell_type": "code",
      "source": [
        "pip install bs4"
      ],
      "metadata": {
        "id": "a600p6ZnIoN8",
        "colab": {
          "base_uri": "https://localhost:8080/"
        },
        "outputId": "4f39f2ea-5340-445a-8b37-ab5093c66025"
      },
      "execution_count": 3,
      "outputs": [
        {
          "output_type": "stream",
          "name": "stdout",
          "text": [
            "Collecting bs4\n",
            "  Downloading bs4-0.0.1.tar.gz (1.1 kB)\n",
            "  Preparing metadata (setup.py) ... \u001b[?25l\u001b[?25hdone\n",
            "Requirement already satisfied: beautifulsoup4 in /usr/local/lib/python3.10/dist-packages (from bs4) (4.11.2)\n",
            "Requirement already satisfied: soupsieve>1.2 in /usr/local/lib/python3.10/dist-packages (from beautifulsoup4->bs4) (2.4.1)\n",
            "Building wheels for collected packages: bs4\n",
            "  Building wheel for bs4 (setup.py) ... \u001b[?25l\u001b[?25hdone\n",
            "  Created wheel for bs4: filename=bs4-0.0.1-py3-none-any.whl size=1257 sha256=94aba70e9bcb8af134d5d7f6f93e14bd333f6e8999f89b7265ad534790f4ca0e\n",
            "  Stored in directory: /root/.cache/pip/wheels/25/42/45/b773edc52acb16cd2db4cf1a0b47117e2f69bb4eb300ed0e70\n",
            "Successfully built bs4\n",
            "Installing collected packages: bs4\n",
            "Successfully installed bs4-0.0.1\n"
          ]
        }
      ]
    },
    {
      "cell_type": "code",
      "source": [
        "from google.colab import files\n",
        "app_df.to_csv('final.csv', encoding = 'utf-8-sig')\n",
        "files.download('final.csv') #downloading the app file"
      ],
      "metadata": {
        "colab": {
          "base_uri": "https://localhost:8080/",
          "height": 17
        },
        "id": "m4J9rmRB1eNe",
        "outputId": "173a6471-bd4f-44ea-9bbb-9a8401d50eaf"
      },
      "execution_count": 5,
      "outputs": [
        {
          "output_type": "display_data",
          "data": {
            "text/plain": [
              "<IPython.core.display.Javascript object>"
            ],
            "application/javascript": [
              "\n",
              "    async function download(id, filename, size) {\n",
              "      if (!google.colab.kernel.accessAllowed) {\n",
              "        return;\n",
              "      }\n",
              "      const div = document.createElement('div');\n",
              "      const label = document.createElement('label');\n",
              "      label.textContent = `Downloading \"${filename}\": `;\n",
              "      div.appendChild(label);\n",
              "      const progress = document.createElement('progress');\n",
              "      progress.max = size;\n",
              "      div.appendChild(progress);\n",
              "      document.body.appendChild(div);\n",
              "\n",
              "      const buffers = [];\n",
              "      let downloaded = 0;\n",
              "\n",
              "      const channel = await google.colab.kernel.comms.open(id);\n",
              "      // Send a message to notify the kernel that we're ready.\n",
              "      channel.send({})\n",
              "\n",
              "      for await (const message of channel.messages) {\n",
              "        // Send a message to notify the kernel that we're ready.\n",
              "        channel.send({})\n",
              "        if (message.buffers) {\n",
              "          for (const buffer of message.buffers) {\n",
              "            buffers.push(buffer);\n",
              "            downloaded += buffer.byteLength;\n",
              "            progress.value = downloaded;\n",
              "          }\n",
              "        }\n",
              "      }\n",
              "      const blob = new Blob(buffers, {type: 'application/binary'});\n",
              "      const a = document.createElement('a');\n",
              "      a.href = window.URL.createObjectURL(blob);\n",
              "      a.download = filename;\n",
              "      div.appendChild(a);\n",
              "      a.click();\n",
              "      div.remove();\n",
              "    }\n",
              "  "
            ]
          },
          "metadata": {}
        },
        {
          "output_type": "display_data",
          "data": {
            "text/plain": [
              "<IPython.core.display.Javascript object>"
            ],
            "application/javascript": [
              "download(\"download_a4c56bf8-852a-4b2e-9702-54b70523c2f4\", \"final.csv\", 25064)"
            ]
          },
          "metadata": {}
        }
      ]
    }
  ],
  "metadata": {
    "colab": {
      "provenance": []
    },
    "kernelspec": {
      "display_name": "Python 3",
      "name": "python3"
    },
    "language_info": {
      "name": "python"
    }
  },
  "nbformat": 4,
  "nbformat_minor": 0
}